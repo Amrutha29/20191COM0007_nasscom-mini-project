{
  "nbformat": 4,
  "nbformat_minor": 0,
  "metadata": {
    "colab": {
      "name": "20191COM0007_Nasscom-mini-project.ipynb",
      "provenance": [],
      "collapsed_sections": []
    },
    "kernelspec": {
      "name": "python3",
      "display_name": "Python 3"
    },
    "language_info": {
      "name": "python"
    }
  },
  "cells": [
    {
      "cell_type": "markdown",
      "metadata": {
        "id": "fTOTdCqaQ1Ft"
      },
      "source": [
        "#**Nasscom(Mini_project_Insurance_cost)**"
      ]
    },
    {
      "cell_type": "markdown",
      "metadata": {
        "id": "OZqy6_8cfloo"
      },
      "source": [
        "#**Name: Amrutha S**\n",
        "\n",
        "#**Roll No: 20191COM0007**\n",
        "\n",
        "#**Section: 5COM1** "
      ]
    },
    {
      "cell_type": "markdown",
      "metadata": {
        "id": "SbVU2EuXhykv"
      },
      "source": [
        "**Linear Regression is a machine learning algorithm based on supervised learning. It performs a regression task. Regression models a target prediction value based on independent variables. It is mostly used for finding out the relationship between variables and forecasting. Different regression models differ based on – the kind of relationship between dependent and independent variables, they are considering and the number of independent variables being used.**\n",
        "\n",
        "**Linear regression performs the task to predict a dependent variable value (y) based on a given independent variable (x). So, this regression technique finds out a linear relationship between x (input) and y(output). Hence, the name is Linear Regression.**\n",
        "\n",
        "**Types of Linear Regression**\n",
        "**Linear regression can be further divided into two types of the algorithm:**\n",
        "\n",
        "**Simple Linear Regression: If a single independent variable is used to predict the value of a numerical dependent variable, then such a Linear Regression algorithm is called Simple Linear Regression.**\n",
        "\n",
        "**Multiple Linear regression: If more than one independent variable is used to predict the value of a numerical dependent variable, then such a Linear Regression algorithm is called Multiple Linear Regression.**\n",
        "          \n"
      ]
    },
    {
      "cell_type": "markdown",
      "metadata": {
        "id": "YxfLz5Am84Lk"
      },
      "source": [
        "# **Problem Statement**"
      ]
    },
    {
      "cell_type": "markdown",
      "metadata": {
        "id": "FDA49_o888TT"
      },
      "source": [
        "**\"Predict the charges to the Insurance policyholders. You can analyze all relevant data for the health insurance of a group of insurance policies and develop focused amount charge program.\"**"
      ]
    },
    {
      "cell_type": "code",
      "metadata": {
        "id": "tVbGr8byv2Pa"
      },
      "source": [
        "#Import library\n",
        "import pandas as pd\n",
        "import numpy as np\n",
        "import matplotlib.pyplot as plt\n",
        "import seaborn as sns\n",
        "from sklearn.preprocessing import LabelEncoder,OneHotEncoder, StandardScaler \n",
        "from sklearn.linear_model import LinearRegression\n",
        "from sklearn.metrics import r2_score,mean_squared_error\n",
        "from sklearn.model_selection import cross_val_score, train_test_split"
      ],
      "execution_count": null,
      "outputs": []
    },
    {
      "cell_type": "markdown",
      "metadata": {
        "id": "j7gzoWHe9KG9"
      },
      "source": [
        "**Load The Dataset**"
      ]
    },
    {
      "cell_type": "code",
      "metadata": {
        "colab": {
          "base_uri": "https://localhost:8080/",
          "height": 206
        },
        "id": "Xh_ReMmBwfd6",
        "outputId": "0bd2795d-90ce-411b-9d18-86adfc41257a"
      },
      "source": [
        "#Import dataset\n",
        "df=pd.read_csv(\"/content/insurance (1).csv\")\n",
        "df.head(5)"
      ],
      "execution_count": null,
      "outputs": [
        {
          "output_type": "execute_result",
          "data": {
            "text/html": [
              "<div>\n",
              "<style scoped>\n",
              "    .dataframe tbody tr th:only-of-type {\n",
              "        vertical-align: middle;\n",
              "    }\n",
              "\n",
              "    .dataframe tbody tr th {\n",
              "        vertical-align: top;\n",
              "    }\n",
              "\n",
              "    .dataframe thead th {\n",
              "        text-align: right;\n",
              "    }\n",
              "</style>\n",
              "<table border=\"1\" class=\"dataframe\">\n",
              "  <thead>\n",
              "    <tr style=\"text-align: right;\">\n",
              "      <th></th>\n",
              "      <th>age</th>\n",
              "      <th>sex</th>\n",
              "      <th>bmi</th>\n",
              "      <th>children</th>\n",
              "      <th>smoker</th>\n",
              "      <th>region</th>\n",
              "      <th>charges</th>\n",
              "    </tr>\n",
              "  </thead>\n",
              "  <tbody>\n",
              "    <tr>\n",
              "      <th>0</th>\n",
              "      <td>19</td>\n",
              "      <td>female</td>\n",
              "      <td>27.900</td>\n",
              "      <td>0</td>\n",
              "      <td>yes</td>\n",
              "      <td>southwest</td>\n",
              "      <td>16884.92400</td>\n",
              "    </tr>\n",
              "    <tr>\n",
              "      <th>1</th>\n",
              "      <td>18</td>\n",
              "      <td>male</td>\n",
              "      <td>33.770</td>\n",
              "      <td>1</td>\n",
              "      <td>no</td>\n",
              "      <td>southeast</td>\n",
              "      <td>1725.55230</td>\n",
              "    </tr>\n",
              "    <tr>\n",
              "      <th>2</th>\n",
              "      <td>28</td>\n",
              "      <td>male</td>\n",
              "      <td>33.000</td>\n",
              "      <td>3</td>\n",
              "      <td>no</td>\n",
              "      <td>southeast</td>\n",
              "      <td>4449.46200</td>\n",
              "    </tr>\n",
              "    <tr>\n",
              "      <th>3</th>\n",
              "      <td>33</td>\n",
              "      <td>male</td>\n",
              "      <td>22.705</td>\n",
              "      <td>0</td>\n",
              "      <td>no</td>\n",
              "      <td>northwest</td>\n",
              "      <td>21984.47061</td>\n",
              "    </tr>\n",
              "    <tr>\n",
              "      <th>4</th>\n",
              "      <td>32</td>\n",
              "      <td>male</td>\n",
              "      <td>28.880</td>\n",
              "      <td>0</td>\n",
              "      <td>no</td>\n",
              "      <td>northwest</td>\n",
              "      <td>3866.85520</td>\n",
              "    </tr>\n",
              "  </tbody>\n",
              "</table>\n",
              "</div>"
            ],
            "text/plain": [
              "   age     sex     bmi  children smoker     region      charges\n",
              "0   19  female  27.900         0    yes  southwest  16884.92400\n",
              "1   18    male  33.770         1     no  southeast   1725.55230\n",
              "2   28    male  33.000         3     no  southeast   4449.46200\n",
              "3   33    male  22.705         0     no  northwest  21984.47061\n",
              "4   32    male  28.880         0     no  northwest   3866.85520"
            ]
          },
          "metadata": {},
          "execution_count": 4
        }
      ]
    },
    {
      "cell_type": "markdown",
      "metadata": {
        "id": "8XMey8pcxloS"
      },
      "source": [
        " **Data Preprocessing**"
      ]
    },
    {
      "cell_type": "code",
      "metadata": {
        "colab": {
          "base_uri": "https://localhost:8080/"
        },
        "id": "oLvBzeVNxEbd",
        "outputId": "0d3bed48-d667-402c-a974-ec91dffef77d"
      },
      "source": [
        "df.shape"
      ],
      "execution_count": null,
      "outputs": [
        {
          "output_type": "execute_result",
          "data": {
            "text/plain": [
              "(1338, 7)"
            ]
          },
          "metadata": {},
          "execution_count": 5
        }
      ]
    },
    {
      "cell_type": "code",
      "metadata": {
        "colab": {
          "base_uri": "https://localhost:8080/",
          "height": 300
        },
        "id": "rqdjUGV1xjRE",
        "outputId": "e66ea143-8263-418c-ae33-3b686f2f6f0b"
      },
      "source": [
        "df.describe()"
      ],
      "execution_count": null,
      "outputs": [
        {
          "output_type": "execute_result",
          "data": {
            "text/html": [
              "<div>\n",
              "<style scoped>\n",
              "    .dataframe tbody tr th:only-of-type {\n",
              "        vertical-align: middle;\n",
              "    }\n",
              "\n",
              "    .dataframe tbody tr th {\n",
              "        vertical-align: top;\n",
              "    }\n",
              "\n",
              "    .dataframe thead th {\n",
              "        text-align: right;\n",
              "    }\n",
              "</style>\n",
              "<table border=\"1\" class=\"dataframe\">\n",
              "  <thead>\n",
              "    <tr style=\"text-align: right;\">\n",
              "      <th></th>\n",
              "      <th>age</th>\n",
              "      <th>bmi</th>\n",
              "      <th>children</th>\n",
              "      <th>charges</th>\n",
              "    </tr>\n",
              "  </thead>\n",
              "  <tbody>\n",
              "    <tr>\n",
              "      <th>count</th>\n",
              "      <td>1338.000000</td>\n",
              "      <td>1338.000000</td>\n",
              "      <td>1338.000000</td>\n",
              "      <td>1338.000000</td>\n",
              "    </tr>\n",
              "    <tr>\n",
              "      <th>mean</th>\n",
              "      <td>39.207025</td>\n",
              "      <td>30.663397</td>\n",
              "      <td>1.094918</td>\n",
              "      <td>13270.422265</td>\n",
              "    </tr>\n",
              "    <tr>\n",
              "      <th>std</th>\n",
              "      <td>14.049960</td>\n",
              "      <td>6.098187</td>\n",
              "      <td>1.205493</td>\n",
              "      <td>12110.011237</td>\n",
              "    </tr>\n",
              "    <tr>\n",
              "      <th>min</th>\n",
              "      <td>18.000000</td>\n",
              "      <td>15.960000</td>\n",
              "      <td>0.000000</td>\n",
              "      <td>1121.873900</td>\n",
              "    </tr>\n",
              "    <tr>\n",
              "      <th>25%</th>\n",
              "      <td>27.000000</td>\n",
              "      <td>26.296250</td>\n",
              "      <td>0.000000</td>\n",
              "      <td>4740.287150</td>\n",
              "    </tr>\n",
              "    <tr>\n",
              "      <th>50%</th>\n",
              "      <td>39.000000</td>\n",
              "      <td>30.400000</td>\n",
              "      <td>1.000000</td>\n",
              "      <td>9382.033000</td>\n",
              "    </tr>\n",
              "    <tr>\n",
              "      <th>75%</th>\n",
              "      <td>51.000000</td>\n",
              "      <td>34.693750</td>\n",
              "      <td>2.000000</td>\n",
              "      <td>16639.912515</td>\n",
              "    </tr>\n",
              "    <tr>\n",
              "      <th>max</th>\n",
              "      <td>64.000000</td>\n",
              "      <td>53.130000</td>\n",
              "      <td>5.000000</td>\n",
              "      <td>63770.428010</td>\n",
              "    </tr>\n",
              "  </tbody>\n",
              "</table>\n",
              "</div>"
            ],
            "text/plain": [
              "               age          bmi     children       charges\n",
              "count  1338.000000  1338.000000  1338.000000   1338.000000\n",
              "mean     39.207025    30.663397     1.094918  13270.422265\n",
              "std      14.049960     6.098187     1.205493  12110.011237\n",
              "min      18.000000    15.960000     0.000000   1121.873900\n",
              "25%      27.000000    26.296250     0.000000   4740.287150\n",
              "50%      39.000000    30.400000     1.000000   9382.033000\n",
              "75%      51.000000    34.693750     2.000000  16639.912515\n",
              "max      64.000000    53.130000     5.000000  63770.428010"
            ]
          },
          "metadata": {},
          "execution_count": 6
        }
      ]
    },
    {
      "cell_type": "code",
      "metadata": {
        "colab": {
          "base_uri": "https://localhost:8080/"
        },
        "id": "PIaxUC3hxuhZ",
        "outputId": "96c455ce-5a6a-4f6f-ce27-ea65fbec50d7"
      },
      "source": [
        "df.isnull().sum()"
      ],
      "execution_count": null,
      "outputs": [
        {
          "output_type": "execute_result",
          "data": {
            "text/plain": [
              "age         0\n",
              "sex         0\n",
              "bmi         0\n",
              "children    0\n",
              "smoker      0\n",
              "region      0\n",
              "charges     0\n",
              "dtype: int64"
            ]
          },
          "metadata": {},
          "execution_count": 8
        }
      ]
    },
    {
      "cell_type": "markdown",
      "metadata": {
        "id": "AbOohaW09bO9"
      },
      "source": [
        "**Data cleaning**"
      ]
    },
    {
      "cell_type": "code",
      "metadata": {
        "colab": {
          "base_uri": "https://localhost:8080/",
          "height": 206
        },
        "id": "su_zhFNCKdPg",
        "outputId": "bee66ab6-c77d-4ac2-d199-4061713e4901"
      },
      "source": [
        "st = df.apply(LabelEncoder().fit_transform)\n",
        "\n",
        "st.head()"
      ],
      "execution_count": null,
      "outputs": [
        {
          "output_type": "execute_result",
          "data": {
            "text/html": [
              "<div>\n",
              "<style scoped>\n",
              "    .dataframe tbody tr th:only-of-type {\n",
              "        vertical-align: middle;\n",
              "    }\n",
              "\n",
              "    .dataframe tbody tr th {\n",
              "        vertical-align: top;\n",
              "    }\n",
              "\n",
              "    .dataframe thead th {\n",
              "        text-align: right;\n",
              "    }\n",
              "</style>\n",
              "<table border=\"1\" class=\"dataframe\">\n",
              "  <thead>\n",
              "    <tr style=\"text-align: right;\">\n",
              "      <th></th>\n",
              "      <th>age</th>\n",
              "      <th>sex</th>\n",
              "      <th>bmi</th>\n",
              "      <th>children</th>\n",
              "      <th>smoker</th>\n",
              "      <th>region</th>\n",
              "      <th>charges</th>\n",
              "    </tr>\n",
              "  </thead>\n",
              "  <tbody>\n",
              "    <tr>\n",
              "      <th>0</th>\n",
              "      <td>1</td>\n",
              "      <td>0</td>\n",
              "      <td>197</td>\n",
              "      <td>0</td>\n",
              "      <td>1</td>\n",
              "      <td>3</td>\n",
              "      <td>1005</td>\n",
              "    </tr>\n",
              "    <tr>\n",
              "      <th>1</th>\n",
              "      <td>0</td>\n",
              "      <td>1</td>\n",
              "      <td>350</td>\n",
              "      <td>1</td>\n",
              "      <td>0</td>\n",
              "      <td>2</td>\n",
              "      <td>57</td>\n",
              "    </tr>\n",
              "    <tr>\n",
              "      <th>2</th>\n",
              "      <td>10</td>\n",
              "      <td>1</td>\n",
              "      <td>331</td>\n",
              "      <td>3</td>\n",
              "      <td>0</td>\n",
              "      <td>2</td>\n",
              "      <td>306</td>\n",
              "    </tr>\n",
              "    <tr>\n",
              "      <th>3</th>\n",
              "      <td>15</td>\n",
              "      <td>1</td>\n",
              "      <td>73</td>\n",
              "      <td>0</td>\n",
              "      <td>0</td>\n",
              "      <td>1</td>\n",
              "      <td>1097</td>\n",
              "    </tr>\n",
              "    <tr>\n",
              "      <th>4</th>\n",
              "      <td>14</td>\n",
              "      <td>1</td>\n",
              "      <td>223</td>\n",
              "      <td>0</td>\n",
              "      <td>0</td>\n",
              "      <td>1</td>\n",
              "      <td>254</td>\n",
              "    </tr>\n",
              "  </tbody>\n",
              "</table>\n",
              "</div>"
            ],
            "text/plain": [
              "   age  sex  bmi  children  smoker  region  charges\n",
              "0    1    0  197         0       1       3     1005\n",
              "1    0    1  350         1       0       2       57\n",
              "2   10    1  331         3       0       2      306\n",
              "3   15    1   73         0       0       1     1097\n",
              "4   14    1  223         0       0       1      254"
            ]
          },
          "metadata": {},
          "execution_count": 46
        }
      ]
    },
    {
      "cell_type": "markdown",
      "metadata": {
        "id": "8eR3gN1T-kDc"
      },
      "source": [
        "# **Data Visulization**"
      ]
    },
    {
      "cell_type": "markdown",
      "metadata": {
        "id": "jy4bHiXeKitN"
      },
      "source": [
        "**Using the converted dataset, we can visualize the correlation heatmap**"
      ]
    },
    {
      "cell_type": "code",
      "metadata": {
        "colab": {
          "base_uri": "https://localhost:8080/",
          "height": 693
        },
        "id": "02tbr8bsKjbT",
        "outputId": "bc3f4662-f568-4538-bece-9b5c98571f53"
      },
      "source": [
        "sns.set(color_codes=True)\n",
        "plt.figure(figsize=(14, 12))\n",
        "sns.heatmap(st.astype(float).corr(), \n",
        "            linewidths=0.2, \n",
        "            square=True, \n",
        "            linecolor='white', \n",
        "            annot=True)\n",
        "plt.show()"
      ],
      "execution_count": null,
      "outputs": [
        {
          "output_type": "display_data",
          "data": {
            "image/png": "[encoded data removed]",
            "text/plain": [
              "<Figure size 1008x864 with 2 Axes>"
            ]
          },
          "metadata": {}
        }
      ]
    },
    {
      "cell_type": "markdown",
      "metadata": {
        "id": "iPJFVCJ3KsBy"
      },
      "source": [
        "Seems like age and smoking weigh the most when looking at the charges row (or column). We expect the weights of these two to be higher than the rest."
      ]
    },
    {
      "cell_type": "code",
      "metadata": {
        "colab": {
          "base_uri": "https://localhost:8080/",
          "height": 512
        },
        "id": "WvbKUUd_KuAw",
        "outputId": "06397526-66ca-4466-9f26-0c20a7601ae2"
      },
      "source": [
        "g = sns.FacetGrid(df, col=\"smoker\",  size= 5, sharey=False, sharex = True)\n",
        "g.map(sns.distplot, \"charges\", color = 'r');\n",
        "g.set_axis_labels(\"charges\", \"proportion\");\n",
        "g.despine(left=True)"
      ],
      "execution_count": null,
      "outputs": [
        {
          "output_type": "stream",
          "name": "stderr",
          "text": [
            "/usr/local/lib/python3.7/dist-packages/seaborn/axisgrid.py:337: UserWarning: The `size` parameter has been renamed to `height`; please update your code.\n",
            "  warnings.warn(msg, UserWarning)\n",
            "/usr/local/lib/python3.7/dist-packages/seaborn/distributions.py:2619: FutureWarning: `distplot` is a deprecated function and will be removed in a future version. Please adapt your code to use either `displot` (a figure-level function with similar flexibility) or `histplot` (an axes-level function for histograms).\n",
            "  warnings.warn(msg, FutureWarning)\n",
            "/usr/local/lib/python3.7/dist-packages/seaborn/distributions.py:2619: FutureWarning: `distplot` is a deprecated function and will be removed in a future version. Please adapt your code to use either `displot` (a figure-level function with similar flexibility) or `histplot` (an axes-level function for histograms).\n",
            "  warnings.warn(msg, FutureWarning)\n"
          ]
        },
        {
          "output_type": "execute_result",
          "data": {
            "text/plain": [
              "<seaborn.axisgrid.FacetGrid at 0x7fed8eb87490>"
            ]
          },
          "metadata": {},
          "execution_count": 48
        },
        {
          "output_type": "display_data",
          "data": {
            "image/png": "[encoded data removed]",
            "text/plain": [
              "<Figure size 720x360 with 2 Axes>"
            ]
          },
          "metadata": {}
        }
      ]
    },
    {
      "cell_type": "markdown",
      "metadata": {
        "id": "C4zpyad-K4qm"
      },
      "source": [
        "smokers pay more for healtcare"
      ]
    },
    {
      "cell_type": "code",
      "metadata": {
        "colab": {
          "base_uri": "https://localhost:8080/",
          "height": 466
        },
        "id": "iwTo9PxVK5xg",
        "outputId": "934885c5-ee38-4f84-d15f-15fb9abb16dd"
      },
      "source": [
        "plt.figure(figsize=(13,6))\n",
        "plt.title(\"Distribution of age\")\n",
        "ax = sns.distplot(df[\"age\"], color = 'blue')"
      ],
      "execution_count": null,
      "outputs": [
        {
          "output_type": "stream",
          "name": "stderr",
          "text": [
            "/usr/local/lib/python3.7/dist-packages/seaborn/distributions.py:2619: FutureWarning: `distplot` is a deprecated function and will be removed in a future version. Please adapt your code to use either `displot` (a figure-level function with similar flexibility) or `histplot` (an axes-level function for histograms).\n",
            "  warnings.warn(msg, FutureWarning)\n"
          ]
        },
        {
          "output_type": "display_data",
          "data": {
            "image/png": "[encoded data removed]",
            "text/plain": [
              "<Figure size 936x432 with 1 Axes>"
            ]
          },
          "metadata": {}
        }
      ]
    },
    {
      "cell_type": "code",
      "metadata": {
        "colab": {
          "base_uri": "https://localhost:8080/",
          "height": 365
        },
        "id": "QTemmIsdLFzm",
        "outputId": "0ce1953d-473f-43d1-a8ef-6bee975ff982"
      },
      "source": [
        "sns.catplot(x=\"smoker\", kind=\"count\", hue = 'sex', data = df , palette='pastel');\n",
        "plt.show()"
      ],
      "execution_count": null,
      "outputs": [
        {
          "output_type": "display_data",
          "data": {
            "image/png": "[encoded data removed]",
            "text/plain": [
              "<Figure size 406.6x360 with 1 Axes>"
            ]
          },
          "metadata": {}
        }
      ]
    },
    {
      "cell_type": "markdown",
      "metadata": {
        "id": "JmhHS7o_LJbr"
      },
      "source": [
        "the majority understands the downsides of smoking.\n",
        "\n",
        "The data seems pretty balanced with a slight skew towards male."
      ]
    },
    {
      "cell_type": "markdown",
      "metadata": {
        "id": "oq-x6mkIMqwg"
      },
      "source": [
        "**Model**"
      ]
    },
    {
      "cell_type": "code",
      "metadata": {
        "colab": {
          "base_uri": "https://localhost:8080/",
          "height": 206
        },
        "id": "u3IAKTQiMqXR",
        "outputId": "72fd563d-0968-4074-fbc0-abc9f730e457"
      },
      "source": [
        "df['age'] = df['age'].astype(float)\n",
        "df['children'] = df['children'].astype(float)\n",
        "\n",
        "df = pd.get_dummies(df)\n",
        "\n",
        "df.head()"
      ],
      "execution_count": null,
      "outputs": [
        {
          "output_type": "execute_result",
          "data": {
            "text/html": [
              "<div>\n",
              "<style scoped>\n",
              "    .dataframe tbody tr th:only-of-type {\n",
              "        vertical-align: middle;\n",
              "    }\n",
              "\n",
              "    .dataframe tbody tr th {\n",
              "        vertical-align: top;\n",
              "    }\n",
              "\n",
              "    .dataframe thead th {\n",
              "        text-align: right;\n",
              "    }\n",
              "</style>\n",
              "<table border=\"1\" class=\"dataframe\">\n",
              "  <thead>\n",
              "    <tr style=\"text-align: right;\">\n",
              "      <th></th>\n",
              "      <th>age</th>\n",
              "      <th>sex</th>\n",
              "      <th>bmi</th>\n",
              "      <th>children</th>\n",
              "      <th>smoker</th>\n",
              "      <th>region</th>\n",
              "      <th>charges</th>\n",
              "    </tr>\n",
              "  </thead>\n",
              "  <tbody>\n",
              "    <tr>\n",
              "      <th>0</th>\n",
              "      <td>19.0</td>\n",
              "      <td>0</td>\n",
              "      <td>27.900</td>\n",
              "      <td>0.0</td>\n",
              "      <td>1</td>\n",
              "      <td>3</td>\n",
              "      <td>16884.92400</td>\n",
              "    </tr>\n",
              "    <tr>\n",
              "      <th>1</th>\n",
              "      <td>18.0</td>\n",
              "      <td>1</td>\n",
              "      <td>33.770</td>\n",
              "      <td>1.0</td>\n",
              "      <td>0</td>\n",
              "      <td>2</td>\n",
              "      <td>1725.55230</td>\n",
              "    </tr>\n",
              "    <tr>\n",
              "      <th>2</th>\n",
              "      <td>28.0</td>\n",
              "      <td>1</td>\n",
              "      <td>33.000</td>\n",
              "      <td>3.0</td>\n",
              "      <td>0</td>\n",
              "      <td>2</td>\n",
              "      <td>4449.46200</td>\n",
              "    </tr>\n",
              "    <tr>\n",
              "      <th>3</th>\n",
              "      <td>33.0</td>\n",
              "      <td>1</td>\n",
              "      <td>22.705</td>\n",
              "      <td>0.0</td>\n",
              "      <td>0</td>\n",
              "      <td>1</td>\n",
              "      <td>21984.47061</td>\n",
              "    </tr>\n",
              "    <tr>\n",
              "      <th>4</th>\n",
              "      <td>32.0</td>\n",
              "      <td>1</td>\n",
              "      <td>28.880</td>\n",
              "      <td>0.0</td>\n",
              "      <td>0</td>\n",
              "      <td>1</td>\n",
              "      <td>3866.85520</td>\n",
              "    </tr>\n",
              "  </tbody>\n",
              "</table>\n",
              "</div>"
            ],
            "text/plain": [
              "    age  sex     bmi  children  smoker  region      charges\n",
              "0  19.0    0  27.900       0.0       1       3  16884.92400\n",
              "1  18.0    1  33.770       1.0       0       2   1725.55230\n",
              "2  28.0    1  33.000       3.0       0       2   4449.46200\n",
              "3  33.0    1  22.705       0.0       0       1  21984.47061\n",
              "4  32.0    1  28.880       0.0       0       1   3866.85520"
            ]
          },
          "metadata": {},
          "execution_count": 61
        }
      ]
    },
    {
      "cell_type": "code",
      "metadata": {
        "id": "uI3bAf-BOdzD"
      },
      "source": [
        "y=df['charges']\n",
        "X=df.drop(columns=['charges'])"
      ],
      "execution_count": null,
      "outputs": []
    },
    {
      "cell_type": "markdown",
      "metadata": {
        "id": "8bR7wzTfOrkO"
      },
      "source": [
        "Since no testing data is provided, we will split the given dataset into training and testing sets."
      ]
    },
    {
      "cell_type": "code",
      "metadata": {
        "id": "7spWH33ROtK-"
      },
      "source": [
        "# use 10% of dataset as testing data\n",
        "X_train, X_test, y_train, y_test = train_test_split(\n",
        "    X, y, test_size=0.1, random_state=42)"
      ],
      "execution_count": null,
      "outputs": []
    },
    {
      "cell_type": "code",
      "metadata": {
        "colab": {
          "base_uri": "https://localhost:8080/"
        },
        "id": "71KHeDAZPXiP",
        "outputId": "afc7e1ad-3262-4df5-985a-c63a6e22e3b2"
      },
      "source": [
        "lr = LinearRegression().fit(X_train, y_train)\n",
        "\n",
        "lr_train_pred = lr.predict(X_train)\n",
        "lr_test_pred = lr.predict(X_test)\n",
        "\n",
        "lr_train_mse = mean_squared_error(y_train, lr_train_pred)\n",
        "lr_test_mse = mean_squared_error(y_test, lr_test_pred)\n",
        "\n",
        "print('MSE train data: {:.5}, MSE test data: {:.5}'.format(lr_train_mse, lr_test_mse))\n",
        "\n",
        "print('RMSE train data: {:.5}, RMSE test data: {:.5}'.format(\n",
        "    np.sqrt(np.absolute(lr_train_mse)), \n",
        "    np.sqrt(np.absolute(lr_train_mse))))\n",
        "                                                               \n",
        "print('R2 train data: {:.5}, R2 test data: {:.5}'.format(\n",
        "    r2_score(y_train,lr_train_pred),\n",
        "    r2_score(y_test,lr_test_pred)))"
      ],
      "execution_count": null,
      "outputs": [
        {
          "output_type": "stream",
          "name": "stdout",
          "text": [
            "MSE train data: 3.7005e+07, MSE test data: 3.2403e+07\n",
            "RMSE train data: 6083.2, RMSE test data: 6083.2\n",
            "R2 train data: 0.74907, R2 test data: 0.76512\n"
          ]
        }
      ]
    },
    {
      "cell_type": "code",
      "metadata": {
        "colab": {
          "base_uri": "https://localhost:8080/"
        },
        "id": "IfvrdrCnPkHr",
        "outputId": "2ccd695d-67a7-4096-e6ff-58614badac32"
      },
      "source": [
        "lr_cv = cross_val_score(LinearRegression(), X, y, cv = 7)\n",
        "# accuracy +/- 2 standard deviations\n",
        "print(\"Accuracy: {:.2} (+/- {:.2})\".format(lr_cv.mean(), lr_cv.std() * 2)) "
      ],
      "execution_count": null,
      "outputs": [
        {
          "output_type": "stream",
          "name": "stdout",
          "text": [
            "Accuracy: 0.75 (+/- 0.076)\n"
          ]
        }
      ]
    },
    {
      "cell_type": "code",
      "metadata": {
        "id": "xssUUwqqRPI7"
      },
      "source": [
        "from sklearn.preprocessing import PolynomialFeatures\n",
        "\n",
        "X_poly =  PolynomialFeatures(degree = 2).fit_transform(X)\n",
        "\n",
        "X_train, X_test, y_train, y_test = train_test_split(\n",
        "    X_poly, y, test_size=0.1, random_state=42)"
      ],
      "execution_count": null,
      "outputs": []
    },
    {
      "cell_type": "code",
      "metadata": {
        "colab": {
          "base_uri": "https://localhost:8080/"
        },
        "id": "Gwb7KK1ARRAF",
        "outputId": "01c0f20e-ce3f-4eba-ee64-1a06fd69665e"
      },
      "source": [
        "pr = LinearRegression().fit(X_train, y_train)\n",
        "\n",
        "pr_train_pred = pr.predict(X_train)\n",
        "pr_test_pred = pr.predict(X_test)\n",
        "\n",
        "pr_train_mse = mean_squared_error(y_train,pr_train_pred)\n",
        "pr_test_mse = mean_squared_error(y_test,pr_test_pred)\n",
        "\n",
        "\n",
        "print('MSE train data: {:.5}, MSE test data: {}'.format(pr_train_mse, pr_test_mse))\n",
        "\n",
        "print('RMSE train data: {:.5}, RMSE test data: {:.5}'.format(\n",
        "    np.sqrt(np.absolute(pr_train_mse)), \n",
        "    np.sqrt(np.absolute(pr_train_mse))))\n",
        "                                                               \n",
        "print('R2 train data: {:.5}, R2 test data: {:.5}'.format(\n",
        "    r2_score(y_train,pr_train_pred),\n",
        "    r2_score(y_test,pr_test_pred)))"
      ],
      "execution_count": null,
      "outputs": [
        {
          "output_type": "stream",
          "name": "stdout",
          "text": [
            "MSE train data: 2.3045e+07, MSE test data: 20507583.47749412\n",
            "RMSE train data: 4800.6, RMSE test data: 4800.6\n",
            "R2 train data: 0.84373, R2 test data: 0.85135\n"
          ]
        }
      ]
    },
    {
      "cell_type": "code",
      "metadata": {
        "colab": {
          "base_uri": "https://localhost:8080/"
        },
        "id": "W83GpRDjRn5s",
        "outputId": "e2b5a5a3-2999-45fb-9912-7c2f91d7014d"
      },
      "source": [
        "pr_cv = cross_val_score(LinearRegression(), X_poly, y, cv = 7)\n",
        "# accuracy +/- 2 standard deviations\n",
        "print(\"Accuracy: {:.2} (+/- {:.2})\".format(pr_cv.mean(), pr_cv.std() * 2)) "
      ],
      "execution_count": null,
      "outputs": [
        {
          "output_type": "stream",
          "name": "stdout",
          "text": [
            "Accuracy: 0.78 (+/- 0.11)\n"
          ]
        }
      ]
    },
    {
      "cell_type": "markdown",
      "metadata": {
        "id": "tOrbHJpqR_Wo"
      },
      "source": [
        "Now we have a better variance score using polynomial relationships"
      ]
    },
    {
      "cell_type": "code",
      "metadata": {
        "colab": {
          "base_uri": "https://localhost:8080/"
        },
        "id": "1kRh-iAWSALN",
        "outputId": "3f07f1bc-8006-4e2a-b165-70c35b274043"
      },
      "source": [
        "from sklearn.ensemble import RandomForestRegressor\n",
        "\n",
        "rfr = RandomForestRegressor(n_estimators = 50).fit(X_train, y_train)\n",
        "\n",
        "rfr_train_pred = rfr.predict(X_train)\n",
        "rfr_test_pred = rfr.predict(X_test)\n",
        "\n",
        "\n",
        "rfr_train_mse = mean_squared_error(y_train,rfr_train_pred)\n",
        "rfr_test_mse = mean_squared_error(y_test,rfr_test_pred)\n",
        "\n",
        "\n",
        "print('MSE train data: {:.5}, MSE test data: {:.5}'.format(rfr_train_mse, rfr_test_mse))\n",
        "\n",
        "print('RMSE train data: {:.5}, RMSE test data: {:.5}'.format(\n",
        "    np.sqrt(np.absolute(rfr_train_mse)), \n",
        "    np.sqrt(np.absolute(rfr_train_mse))))\n",
        "                                                               \n",
        "print('R2 train data: {:.5}, R2 test data: {:.5}'.format(\n",
        "    r2_score(y_train, rfr_train_pred),\n",
        "    r2_score(y_test, rfr_test_pred)))"
      ],
      "execution_count": null,
      "outputs": [
        {
          "output_type": "stream",
          "name": "stdout",
          "text": [
            "MSE train data: 3.4425e+06, MSE test data: 2.2808e+07\n",
            "RMSE train data: 1855.4, RMSE test data: 1855.4\n",
            "R2 train data: 0.97666, R2 test data: 0.83467\n"
          ]
        }
      ]
    },
    {
      "cell_type": "code",
      "metadata": {
        "colab": {
          "base_uri": "https://localhost:8080/"
        },
        "id": "wxzzfj3lSHD5",
        "outputId": "c188faef-855b-4b09-ae53-57978f9a3aa8"
      },
      "source": [
        "rfr_cv = cross_val_score(RandomForestRegressor(n_estimators = 50), X_poly, y, cv = 7)\n",
        "# accuracy +/- 2 standard deviations\n",
        "print(\"Accuracy: {:.2} (+/- {:.2})\".format(rfr_cv.mean(), rfr_cv.std() * 2)) "
      ],
      "execution_count": null,
      "outputs": [
        {
          "output_type": "stream",
          "name": "stdout",
          "text": [
            "Accuracy: 0.83 (+/- 0.089)\n"
          ]
        }
      ]
    },
    {
      "cell_type": "code",
      "metadata": {
        "colab": {
          "base_uri": "https://localhost:8080/"
        },
        "id": "vJFE9LsPSUJf",
        "outputId": "dd2bd137-6706-4bb1-ede0-5fd411e37788"
      },
      "source": [
        "from sklearn.linear_model import BayesianRidge\n",
        "\n",
        "br = BayesianRidge().fit(X_train, y_train)\n",
        "\n",
        "br_train_pred = br.predict(X_train)\n",
        "br_test_pred = br.predict(X_test)\n",
        "\n",
        "\n",
        "br_train_mse = mean_squared_error(y_train, br_train_pred)\n",
        "br_test_mse = mean_squared_error(y_test, br_test_pred)\n",
        "\n",
        "\n",
        "print('MSE train data: {:.5}, MSE test data: {:.5}'.format(br_train_mse, br_test_mse))\n",
        "\n",
        "print('RMSE train data: {:.5}, RMSE test data: {:.5}'.format(\n",
        "    np.sqrt(np.absolute(br_train_mse)), \n",
        "    np.sqrt(np.absolute(br_train_mse))))\n",
        "                                                               \n",
        "print('R2 train data: {:.5}, R2 test data: {:.5}'.format(\n",
        "    r2_score(y_train, br_train_pred),\n",
        "    r2_score(y_test, br_test_pred)))"
      ],
      "execution_count": null,
      "outputs": [
        {
          "output_type": "stream",
          "name": "stdout",
          "text": [
            "MSE train data: 2.4919e+07, MSE test data: 2.029e+07\n",
            "RMSE train data: 4991.9, RMSE test data: 4991.9\n",
            "R2 train data: 0.83103, R2 test data: 0.85292\n"
          ]
        }
      ]
    },
    {
      "cell_type": "code",
      "metadata": {
        "colab": {
          "base_uri": "https://localhost:8080/"
        },
        "id": "vKcoda-XSXt3",
        "outputId": "315be8a7-ac65-465a-b424-38f37d1de29f"
      },
      "source": [
        "br_cv = cross_val_score(BayesianRidge(), X_poly, y, cv = 7)\n",
        "# accuracy +/- 2 standard deviations\n",
        "print(\"Accuracy: {:.2} (+/- {:.2})\".format(br_cv.mean(), br_cv.std() * 2)) "
      ],
      "execution_count": null,
      "outputs": [
        {
          "output_type": "stream",
          "name": "stdout",
          "text": [
            "Accuracy: 0.83 (+/- 0.069)\n"
          ]
        }
      ]
    },
    {
      "cell_type": "markdown",
      "metadata": {
        "id": "LOy9hNgtSb1l"
      },
      "source": [
        "We can assume that the Random Forest wins with a variance score of 97% against training data, and 84% against data it has never seen before. It also has the lowest root MSE value.\n",
        "\n",
        "With cross-validation, however, Bayesian regression gets the same average as the Random Forest but with a smaller standard deviation using 7 folds.\n",
        "\n",
        "We do not have to worry about overfitting with Random Forest."
      ]
    },
    {
      "cell_type": "markdown",
      "metadata": {
        "id": "fbPBe19-rpUd"
      },
      "source": [
        "**colab link: https://colab.research.google.com/drive/15ao92irSmkc_oIEq-jJZncqxBNyZCNV3?usp=sharing**"
      ]
    }
  ]
}